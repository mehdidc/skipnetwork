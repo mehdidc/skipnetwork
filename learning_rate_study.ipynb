{
 "cells": [
  {
   "cell_type": "code",
   "execution_count": 1,
   "metadata": {
    "collapsed": false
   },
   "outputs": [],
   "source": [
    "%matplotlib inline\n",
    "import os\n",
    "os.environ['DATA_PATH'] = \"/root/work/data\"\n",
    "import matplotlib.pyplot as plt\n",
    "from invoke import task\n",
    "from collections import OrderedDict\n",
    "import numpy as np\n",
    "from model import build_dense, build_conv, build_dense_resid, build_ciresan_1, build_ciresan_4\n",
    "import theano\n",
    "import theano.tensor as T\n",
    "from lasagne import layers, objectives, updates\n",
    "from lasagnekit.datasets.mnist import MNIST\n",
    "from lasagnekit.datasets.helpers import split\n",
    "from lasagnekit.datasets.infinite_image_dataset import Transform\n",
    "from helpers import iterate_minibatches, flip, rotate_scale, rotate_scale_one, elastic_transform, elastic_transform_one\n",
    "from tabulate import tabulate\n",
    "from time import time\n"
   ]
  },
  {
   "cell_type": "code",
   "execution_count": 4,
   "metadata": {
    "collapsed": false
   },
   "outputs": [
    {
     "name": "stdout",
     "output_type": "stream",
     "text": [
      "Compiling the net...\n"
     ]
    }
   ],
   "source": [
    "c = 1\n",
    "w = 28\n",
    "h = 28\n",
    "learning_rate = theano.shared(np.array(0.01).astype(np.float32))\n",
    "momentum = 0.9\n",
    "batchsize = 128\n",
    "\n",
    "X = T.tensor4()\n",
    "y = T.ivector()\n",
    "\n",
    "net = build_ciresan_1(\n",
    "    w=w, h=w, c=c, \n",
    "    nb_outputs=10)\n",
    "\n",
    "\"\"\"\n",
    "\n",
    "net = build_dense(\n",
    "    w=w, h=w, c=c, \n",
    "    nb_hidden=1000, \n",
    "    nb_outputs=10, \n",
    "    nb_blocks=4, layer_per_block=2)\n",
    "\"\"\"\n",
    "#net = build_conv(\n",
    "#\tw=w, h=h, c=c,\n",
    "#\tnb_filters=16,\n",
    "#\tfilter_size=5,\n",
    "#\tnb_outputs=10,\n",
    "#\tnb_blocks=2,\n",
    "#\tlayer_per_block=3,\n",
    "#\tpool=True\n",
    "#)\n",
    "\n",
    "print('Compiling the net...')\n",
    "\n",
    "y_pred = layers.get_output(net, X)\n",
    "y_pred_detm = layers.get_output(net, X, deterministic=True)\n",
    "#predict_fn = theano.function([X], y_pred)\n",
    "\n",
    "loss = objectives.categorical_crossentropy(y_pred, y).mean()\n",
    "\n",
    "loss_detm = objectives.categorical_crossentropy(y_pred, y).mean()\n",
    "y_acc_detm = T.eq(y_pred_detm.argmax(axis=1), y).mean()\n",
    "\n",
    "loss_fn = theano.function([X, y], loss_detm)\n",
    "acc_fn = theano.function([X, y], y_acc_detm)\n",
    "\n",
    "params = layers.get_all_params(net, trainable=True)\n",
    "grad_updates = updates.momentum(loss, params, learning_rate=learning_rate, momentum=momentum)\n",
    "#grad_updates = updates.adam(loss, params, learning_rate=learning_rate)\n",
    "\n",
    "train_fn = theano.function([X, y], loss, updates=grad_updates)"
   ]
  },
  {
   "cell_type": "code",
   "execution_count": 5,
   "metadata": {
    "collapsed": false
   },
   "outputs": [
    {
     "name": "stdout",
     "output_type": "stream",
     "text": [
      "Loading data...\n"
     ]
    }
   ],
   "source": [
    "print('Loading data...')\n",
    "\n",
    "def preprocess(data):\n",
    "    data = data * 2 - 1\n",
    "    return data.reshape((data.shape[0], c, w, h))\n",
    "\n",
    "train_full = MNIST(which='train')\n",
    "train_full.load()\n",
    "train_full.X = preprocess(train_full.X)\n",
    "#train_full.X = train_full.X[0:128*10]\n",
    "\n",
    "train, valid = split(train_full, test_size=0.16667) # 10000 examples in validation set\n",
    "\n",
    "test = MNIST(which='test')\n",
    "test.load()\n",
    "test.X = preprocess(test.X)"
   ]
  },
  {
   "cell_type": "code",
   "execution_count": 6,
   "metadata": {
    "collapsed": true
   },
   "outputs": [],
   "source": [
    "def augment(X):\n",
    "    X = X[:, 0]\n",
    "    X = rotate_scale(X, min_angle=-15, max_angle=15, min_scale=0.85, max_scale=1.15, n_jobs=10)\n",
    "    X = elastic_transform(X, min_alpha=36, max_alpha=38, min_sigma=5, max_sigma=6, n_jobs=10)\n",
    "    X = X[:, None, :, :]\n",
    "    X = X.astype(np.float32)\n",
    "    return X"
   ]
  },
  {
   "cell_type": "code",
   "execution_count": 7,
   "metadata": {
    "collapsed": true
   },
   "outputs": [],
   "source": [
    "history = []"
   ]
  },
  {
   "cell_type": "code",
   "execution_count": 8,
   "metadata": {
    "collapsed": true
   },
   "outputs": [],
   "source": [
    "lr = 0.01"
   ]
  },
  {
   "cell_type": "code",
   "execution_count": 10,
   "metadata": {
    "collapsed": false
   },
   "outputs": [
    {
     "data": {
      "text/plain": [
       "[<matplotlib.lines.Line2D at 0x7f05d631fa10>]"
      ]
     },
     "execution_count": 10,
     "metadata": {},
     "output_type": "execute_result"
    },
    {
     "data": {
      "image/png": "[encoded data removed]",
      "text/plain": [
       "<matplotlib.figure.Figure at 0x7f05d491e950>"
      ]
     },
     "metadata": {},
     "output_type": "display_data"
    }
   ],
   "source": [
    "lr_sims = []\n",
    "lr_sim = lr\n",
    "for i in range(100):\n",
    "    lr_sims.append(lr_sim)\n",
    "    lr_sim *= 0.91\n",
    "plt.plot(lr_sims)"
   ]
  },
  {
   "cell_type": "code",
   "execution_count": null,
   "metadata": {
    "collapsed": false,
    "scrolled": true
   },
   "outputs": [
    {
     "name": "stdout",
     "output_type": "stream",
     "text": [
      "Training...\n",
      "  train_loss    valid_losss    train_acc    valid_acc    data_aug_time    train_time    epoch\n",
      "------------  -------------  -----------  -----------  ---------------  ------------  -------\n",
      "    0.641376       0.644422      0.81998       0.8187          27.0661        14.801        1\n",
      "  train_loss    valid_losss    train_acc    valid_acc    data_aug_time    train_time    epoch\n",
      "------------  -------------  -----------  -----------  ---------------  ------------  -------\n",
      "    0.366791       0.371847      0.88928       0.8861          27.7048       12.3094        2\n",
      "  train_loss    valid_losss    train_acc    valid_acc    data_aug_time    train_time    epoch\n",
      "------------  -------------  -----------  -----------  ---------------  ------------  -------\n",
      "    0.247427       0.247128      0.93044       0.9309          26.9663       15.9933        3\n",
      "  train_loss    valid_losss    train_acc    valid_acc    data_aug_time    train_time    epoch\n",
      "------------  -------------  -----------  -----------  ---------------  ------------  -------\n",
      "    0.231174       0.233354      0.93116       0.9277          27.5954       13.4716        4\n",
      "  train_loss    valid_losss    train_acc    valid_acc    data_aug_time    train_time    epoch\n",
      "------------  -------------  -----------  -----------  ---------------  ------------  -------\n",
      "    0.249588       0.251378       0.9231       0.9225           27.615       12.5307        5\n",
      "  train_loss    valid_losss    train_acc    valid_acc    data_aug_time    train_time    epoch\n",
      "------------  -------------  -----------  -----------  ---------------  ------------  -------\n",
      "     0.18667       0.186132      0.94498       0.9453          27.8416       19.5239        6\n",
      "  train_loss    valid_losss    train_acc    valid_acc    data_aug_time    train_time    epoch\n",
      "------------  -------------  -----------  -----------  ---------------  ------------  -------\n",
      "    0.195737       0.195973      0.94064       0.9404          27.5001       15.6663        7\n",
      "  train_loss    valid_losss    train_acc    valid_acc    data_aug_time    train_time    epoch\n",
      "------------  -------------  -----------  -----------  ---------------  ------------  -------\n",
      "    0.155876        0.15437      0.95212       0.9536          27.3759       14.9836        8\n",
      "  train_loss    valid_losss    train_acc    valid_acc    data_aug_time    train_time    epoch\n",
      "------------  -------------  -----------  -----------  ---------------  ------------  -------\n",
      "    0.150285       0.151131      0.95706       0.9571           27.813       17.5085        9\n",
      "  train_loss    valid_losss    train_acc    valid_acc    data_aug_time    train_time    epoch\n",
      "------------  -------------  -----------  -----------  ---------------  ------------  -------\n",
      "    0.131216       0.131312      0.96154       0.9605          27.3565       24.4175       10\n",
      "  train_loss    valid_losss    train_acc    valid_acc    data_aug_time    train_time    epoch\n",
      "------------  -------------  -----------  -----------  ---------------  ------------  -------\n",
      "    0.134355       0.135311      0.95994       0.9606          28.1842       17.4187       11\n",
      "  train_loss    valid_losss    train_acc    valid_acc    data_aug_time    train_time    epoch\n",
      "------------  -------------  -----------  -----------  ---------------  ------------  -------\n",
      "    0.132076       0.132347       0.9616       0.9614          27.3989       27.7123       12\n",
      "  train_loss    valid_losss    train_acc    valid_acc    data_aug_time    train_time    epoch\n",
      "------------  -------------  -----------  -----------  ---------------  ------------  -------\n",
      "    0.119934       0.122943      0.96476       0.9637          27.5473       39.1537       13\n",
      "  train_loss    valid_losss    train_acc    valid_acc    data_aug_time    train_time    epoch\n",
      "------------  -------------  -----------  -----------  ---------------  ------------  -------\n",
      "    0.117614       0.120908      0.96588       0.9644          28.9376       27.0778       14\n",
      "  train_loss    valid_losss    train_acc    valid_acc    data_aug_time    train_time    epoch\n",
      "------------  -------------  -----------  -----------  ---------------  ------------  -------\n",
      "    0.128102       0.128688      0.96214       0.9621          27.8458        15.133       15\n",
      "  train_loss    valid_losss    train_acc    valid_acc    data_aug_time    train_time    epoch\n",
      "------------  -------------  -----------  -----------  ---------------  ------------  -------\n",
      "    0.122856       0.122808       0.9645        0.964          27.9887       49.1832       16\n",
      "  train_loss    valid_losss    train_acc    valid_acc    data_aug_time    train_time    epoch\n",
      "------------  -------------  -----------  -----------  ---------------  ------------  -------\n",
      "    0.123782       0.123548      0.96314       0.9637          27.5924       18.1901       17\n",
      "  train_loss    valid_losss    train_acc    valid_acc    data_aug_time    train_time    epoch\n",
      "------------  -------------  -----------  -----------  ---------------  ------------  -------\n",
      "    0.114988       0.115086      0.96602       0.9663          28.1216       15.6121       18\n",
      "  train_loss    valid_losss    train_acc    valid_acc    data_aug_time    train_time    epoch\n",
      "------------  -------------  -----------  -----------  ---------------  ------------  -------\n",
      "    0.120854       0.120278      0.96414       0.9639          28.0234       26.1381       19\n",
      "  train_loss    valid_losss    train_acc    valid_acc    data_aug_time    train_time    epoch\n",
      "------------  -------------  -----------  -----------  ---------------  ------------  -------\n",
      "    0.111005       0.111084      0.96704       0.9678          27.4201       16.8467       20\n",
      "  train_loss    valid_losss    train_acc    valid_acc    data_aug_time    train_time    epoch\n",
      "------------  -------------  -----------  -----------  ---------------  ------------  -------\n",
      "    0.105498       0.104796      0.96898       0.9708          28.3564       14.9267       21\n",
      "  train_loss    valid_losss    train_acc    valid_acc    data_aug_time    train_time    epoch\n",
      "------------  -------------  -----------  -----------  ---------------  ------------  -------\n",
      "    0.111109       0.110573      0.96764       0.9681          28.2066       18.9146       22\n",
      "  train_loss    valid_losss    train_acc    valid_acc    data_aug_time    train_time    epoch\n",
      "------------  -------------  -----------  -----------  ---------------  ------------  -------\n",
      "    0.107135       0.106414      0.96854       0.9699          28.5178       22.2718       23\n",
      "  train_loss    valid_losss    train_acc    valid_acc    data_aug_time    train_time    epoch\n",
      "------------  -------------  -----------  -----------  ---------------  ------------  -------\n",
      "   0.0999021       0.100813      0.97078        0.971           27.609       14.2147       24\n",
      "  train_loss    valid_losss    train_acc    valid_acc    data_aug_time    train_time    epoch\n",
      "------------  -------------  -----------  -----------  ---------------  ------------  -------\n",
      "    0.102851       0.104731       0.9703       0.9704          28.3956       12.8164       25\n",
      "  train_loss    valid_losss    train_acc    valid_acc    data_aug_time    train_time    epoch\n",
      "------------  -------------  -----------  -----------  ---------------  ------------  -------\n",
      "    0.105791       0.107511      0.96934       0.9695          28.2186       14.6944       26\n",
      "  train_loss    valid_losss    train_acc    valid_acc    data_aug_time    train_time    epoch\n",
      "------------  -------------  -----------  -----------  ---------------  ------------  -------\n",
      "    0.102952       0.104295       0.9705       0.9698          27.8259        13.493       27\n",
      "  train_loss    valid_losss    train_acc    valid_acc    data_aug_time    train_time    epoch\n",
      "------------  -------------  -----------  -----------  ---------------  ------------  -------\n",
      "    0.096768      0.0979811       0.9725       0.9721          27.8762       13.8786       28\n",
      "  train_loss    valid_losss    train_acc    valid_acc    data_aug_time    train_time    epoch\n",
      "------------  -------------  -----------  -----------  ---------------  ------------  -------\n",
      "   0.0967776      0.0978105      0.97204       0.9712          27.7178       13.7596       29\n"
     ]
    }
   ],
   "source": [
    "nb_epochs = 100\n",
    "data_augment = True\n",
    "learning_rate.set_value(np.array(lr).astype(np.float32))\n",
    "\n",
    "print('Training...')\n",
    "\n",
    "for epoch in range(1, nb_epochs + 1):\n",
    "    data_aug_time = []\n",
    "    train_time = []\n",
    "    \n",
    "    # Data augmentation\n",
    "    t = time()\n",
    "    if data_augment:\n",
    "        train_X_full = augment(train.X)\n",
    "    else:\n",
    "        train_X_full = train.X\n",
    "    data_aug_time.append(time() - t)\n",
    "\n",
    "    train_y_full = train.y\n",
    "    for train_X, train_y in iterate_minibatches(train_X_full, train_y_full, batchsize):\n",
    "        # Train one mini=batch\n",
    "        t = time()\n",
    "        train_fn(train_X, train_y)\n",
    "        train_time.append(time() - t)\n",
    "    stats = OrderedDict()\n",
    "    stats['train_loss'] = loss_fn(train.X, train.y)\n",
    "    stats['valid_losss'] = loss_fn(valid.X, valid.y)\n",
    "    stats['train_acc'] = acc_fn(train.X, train.y)\n",
    "    stats['valid_acc'] = acc_fn(valid.X, valid.y)\n",
    "    stats['data_aug_time'] = np.sum(data_aug_time)\n",
    "    stats['train_time'] = np.sum(train_time)\n",
    "    stats['epoch'] = epoch\n",
    "    \n",
    "    history.append(stats)\n",
    "    print(tabulate([stats], headers=\"keys\"))\n",
    "    \n",
    "    lr = learning_rate.get_value()\n",
    "    lr = lr * 0.91\n",
    "    learning_rate.set_value(np.array(lr).astype(np.float32))"
   ]
  },
  {
   "cell_type": "code",
   "execution_count": null,
   "metadata": {
    "collapsed": false
   },
   "outputs": [],
   "source": [
    "train_acc = [h['train_acc'] for h in history]\n",
    "test_acc = [h['valid_acc'] for h in history]\n",
    "plt.plot(train_acc)\n",
    "plt.plot(test_acc)"
   ]
  },
  {
   "cell_type": "code",
   "execution_count": null,
   "metadata": {
    "collapsed": false
   },
   "outputs": [],
   "source": [
    "test_acc = acc_fn(test.X, test.y)\n",
    "print(1-test_acc, test_acc)"
   ]
  },
  {
   "cell_type": "code",
   "execution_count": null,
   "metadata": {
    "collapsed": false
   },
   "outputs": [],
   "source": [
    "all_layers = layers.get_all_layers(net)\n",
    "input_var = all_layers[0].input_var\n",
    "for l in all_layers:\n",
    "    f = theano.function([input_var], layers.get_output(l, input_var))\n",
    "    h = f(train.X)\n",
    "    print(l, h.shape)\n",
    "    plt.hist(h.flatten())\n",
    "    plt.show()"
   ]
  }
 ],
 "metadata": {
  "kernelspec": {
   "display_name": "Python 2",
   "language": "python",
   "name": "python2"
  },
  "language_info": {
   "codemirror_mode": {
    "name": "ipython",
    "version": 2
   },
   "file_extension": ".py",
   "mimetype": "text/x-python",
   "name": "python",
   "nbconvert_exporter": "python",
   "pygments_lexer": "ipython2",
   "version": "2.7.11"
  }
 },
 "nbformat": 4,
 "nbformat_minor": 0
}
