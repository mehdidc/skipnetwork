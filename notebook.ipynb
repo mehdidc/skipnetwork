{
 "cells": [
  {
   "cell_type": "code",
   "execution_count": 1,
   "metadata": {
    "collapsed": false
   },
   "outputs": [],
   "source": [
    "%matplotlib inline\n",
    "import os\n",
    "os.environ['DATA_PATH'] = \"/root/work/data\"\n",
    "import matplotlib.pyplot as plt\n",
    "from invoke import task\n",
    "from collections import OrderedDict\n",
    "import numpy as np\n",
    "from model import build_dense, build_conv, build_dense_resid, build_ciresan_1, build_ciresan_4\n",
    "import theano\n",
    "import theano.tensor as T\n",
    "from lasagne import layers, objectives, updates\n",
    "from lasagnekit.datasets.mnist import MNIST\n",
    "from lasagnekit.datasets.helpers import split\n",
    "from lasagnekit.datasets.infinite_image_dataset import Transform\n",
    "from helpers import iterate_minibatches, flip, rotate_scale, rotate_scale_one, elastic_transform, elastic_transform_one\n",
    "from tabulate import tabulate\n",
    "from time import time"
   ]
  },
  {
   "cell_type": "code",
   "execution_count": 3,
   "metadata": {
    "collapsed": false
   },
   "outputs": [
    {
     "name": "stdout",
     "output_type": "stream",
     "text": [
      "Compiling the net...\n"
     ]
    }
   ],
   "source": [
    "c = 1\n",
    "w = 28\n",
    "h = 28\n",
    "learning_rate = theano.shared(np.array(0.01).astype(np.float32))\n",
    "momentum = 0.9\n",
    "batchsize = 128\n",
    "\n",
    "X = T.tensor4()\n",
    "y = T.ivector()\n",
    "\n",
    "net = build_ciresan_4(\n",
    "    w=w, h=w, c=c, \n",
    "    nb_outputs=10)\n",
    "\n",
    "\"\"\"\n",
    "\n",
    "net = build_dense(\n",
    "    w=w, h=w, c=c, \n",
    "    nb_hidden=1000, \n",
    "    nb_outputs=10, \n",
    "    nb_blocks=4, layer_per_block=2)\n",
    "\"\"\"\n",
    "#net = build_conv(\n",
    "#\tw=w, h=h, c=c,\n",
    "#\tnb_filters=16,\n",
    "#\tfilter_size=5,\n",
    "#\tnb_outputs=10,\n",
    "#\tnb_blocks=2,\n",
    "#\tlayer_per_block=3,\n",
    "#\tpool=True\n",
    "#)\n",
    "\n",
    "print('Compiling the net...')\n",
    "\n",
    "y_pred = layers.get_output(net, X)\n",
    "y_pred_detm = layers.get_output(net, X, deterministic=True)\n",
    "#predict_fn = theano.function([X], y_pred)\n",
    "\n",
    "loss = objectives.categorical_crossentropy(y_pred, y).mean()\n",
    "\n",
    "loss_detm = objectives.categorical_crossentropy(y_pred, y).mean()\n",
    "y_acc_detm = T.eq(y_pred_detm.argmax(axis=1), y).mean()\n",
    "\n",
    "loss_fn = theano.function([X, y], loss_detm)\n",
    "acc_fn = theano.function([X, y], y_acc_detm)\n",
    "\n",
    "params = layers.get_all_params(net, trainable=True)\n",
    "grad_updates = updates.momentum(loss, params, learning_rate=learning_rate, momentum=momentum)\n",
    "#grad_updates = updates.adam(loss, params, learning_rate=learning_rate)\n",
    "\n",
    "train_fn = theano.function([X, y], loss, updates=grad_updates)"
   ]
  },
  {
   "cell_type": "code",
   "execution_count": 4,
   "metadata": {
    "collapsed": false
   },
   "outputs": [
    {
     "name": "stdout",
     "output_type": "stream",
     "text": [
      "Loading data...\n"
     ]
    }
   ],
   "source": [
    "print('Loading data...')\n",
    "\n",
    "def preprocess(data):\n",
    "    data = data * 2 - 1\n",
    "    return data.reshape((data.shape[0], c, w, h))\n",
    "\n",
    "train_full = MNIST(which='train')\n",
    "train_full.load()\n",
    "train_full.X = preprocess(train_full.X)\n",
    "#train_full.X = train_full.X[0:128*10]\n",
    "\n",
    "train, valid = split(train_full, test_size=0.16667) # 10000 examples in validation set\n",
    "\n",
    "test = MNIST(which='test')\n",
    "test.load()\n",
    "test.X = preprocess(test.X)"
   ]
  },
  {
   "cell_type": "code",
   "execution_count": 5,
   "metadata": {
    "collapsed": true
   },
   "outputs": [],
   "source": [
    "def augment(X):\n",
    "    X = X[:, 0]\n",
    "    X = rotate_scale(X, min_angle=-7, max_angle=7, min_scale=0.85, max_scale=1.15, n_jobs=10)\n",
    "    X = elastic_transform(X, min_alpha=36, max_alpha=38, min_sigma=5, max_sigma=6, n_jobs=10)\n",
    "    X = X[:, None, :, :]\n",
    "    X = X.astype(np.float32)\n",
    "    return X"
   ]
  },
  {
   "cell_type": "code",
   "execution_count": 6,
   "metadata": {
    "collapsed": true
   },
   "outputs": [],
   "source": [
    "history = []"
   ]
  },
  {
   "cell_type": "code",
   "execution_count": 7,
   "metadata": {
    "collapsed": true
   },
   "outputs": [],
   "source": [
    "lr = 0.01\n",
    "lr_decay = 0.998"
   ]
  },
  {
   "cell_type": "code",
   "execution_count": 8,
   "metadata": {
    "collapsed": false
   },
   "outputs": [
    {
     "data": {
      "text/plain": [
       "[<matplotlib.lines.Line2D at 0x7ff80c89b710>]"
      ]
     },
     "execution_count": 8,
     "metadata": {},
     "output_type": "execute_result"
    },
    {
     "data": {
      "image/png": "[encoded data removed]",
      "text/plain": [
       "<matplotlib.figure.Figure at 0x7ff81b4bc410>"
      ]
     },
     "metadata": {},
     "output_type": "display_data"
    }
   ],
   "source": [
    "lr_sims = []\n",
    "lr_sim = lr\n",
    "for i in range(100):\n",
    "    lr_sims.append(lr_sim)\n",
    "    lr_sim *= lr_decay\n",
    "plt.plot(lr_sims)"
   ]
  },
  {
   "cell_type": "code",
   "execution_count": null,
   "metadata": {
    "collapsed": false,
    "scrolled": false
   },
   "outputs": [
    {
     "name": "stdout",
     "output_type": "stream",
     "text": [
      "Training...\n",
      "  train_loss    valid_losss    train_acc    valid_acc    data_aug_time    train_time    epoch\n",
      "------------  -------------  -----------  -----------  ---------------  ------------  -------\n",
      "    0.353868       0.369638      0.89302       0.8892          27.0269        108.22        1\n",
      "  train_loss    valid_losss    train_acc    valid_acc    data_aug_time    train_time    epoch\n",
      "------------  -------------  -----------  -----------  ---------------  ------------  -------\n",
      "    0.244215       0.260651      0.92316       0.9217          28.0912       109.938        2\n",
      "  train_loss    valid_losss    train_acc    valid_acc    data_aug_time    train_time    epoch\n",
      "------------  -------------  -----------  -----------  ---------------  ------------  -------\n",
      "    0.158189       0.174653      0.95206       0.9478          26.7681       121.738        3\n",
      "  train_loss    valid_losss    train_acc    valid_acc    data_aug_time    train_time    epoch\n",
      "------------  -------------  -----------  -----------  ---------------  ------------  -------\n",
      "    0.130271        0.14498       0.9581       0.9574          28.2496       88.6801        4\n",
      "  train_loss    valid_losss    train_acc    valid_acc    data_aug_time    train_time    epoch\n",
      "------------  -------------  -----------  -----------  ---------------  ------------  -------\n",
      "    0.117954       0.130577      0.96274       0.9595          28.2543       143.409        5\n",
      "  train_loss    valid_losss    train_acc    valid_acc    data_aug_time    train_time    epoch\n",
      "------------  -------------  -----------  -----------  ---------------  ------------  -------\n",
      "    0.108046       0.122592      0.96512       0.9611          27.3413        103.22        6\n",
      "  train_loss    valid_losss    train_acc    valid_acc    data_aug_time    train_time    epoch\n",
      "------------  -------------  -----------  -----------  ---------------  ------------  -------\n",
      "    0.097194       0.110359      0.96882        0.968          27.8345       105.235        7\n",
      "  train_loss    valid_losss    train_acc    valid_acc    data_aug_time    train_time    epoch\n",
      "------------  -------------  -----------  -----------  ---------------  ------------  -------\n",
      "    0.085004       0.102211       0.9721       0.9696          27.3832       93.4563        8\n",
      "  train_loss    valid_losss    train_acc    valid_acc    data_aug_time    train_time    epoch\n",
      "------------  -------------  -----------  -----------  ---------------  ------------  -------\n",
      "    0.084485      0.0994343       0.9728       0.9677          28.2854       89.1078        9\n",
      "  train_loss    valid_losss    train_acc    valid_acc    data_aug_time    train_time    epoch\n",
      "------------  -------------  -----------  -----------  ---------------  ------------  -------\n",
      "   0.0705828      0.0852599      0.97804       0.9742          27.8575       103.927       10\n",
      "  train_loss    valid_losss    train_acc    valid_acc    data_aug_time    train_time    epoch\n",
      "------------  -------------  -----------  -----------  ---------------  ------------  -------\n",
      "   0.0725658       0.087233      0.97716        0.974           27.669       90.8707       11\n",
      "  train_loss    valid_losss    train_acc    valid_acc    data_aug_time    train_time    epoch\n",
      "------------  -------------  -----------  -----------  ---------------  ------------  -------\n",
      "   0.0634427      0.0766073      0.98064       0.9768          28.2134       89.8131       12\n",
      "  train_loss    valid_losss    train_acc    valid_acc    data_aug_time    train_time    epoch\n",
      "------------  -------------  -----------  -----------  ---------------  ------------  -------\n",
      "   0.0603859       0.074487       0.9811       0.9773          27.6367       107.685       13\n",
      "  train_loss    valid_losss    train_acc    valid_acc    data_aug_time    train_time    epoch\n",
      "------------  -------------  -----------  -----------  ---------------  ------------  -------\n",
      "   0.0647983      0.0812802      0.97986       0.9746          27.1865       88.5176       14\n",
      "  train_loss    valid_losss    train_acc    valid_acc    data_aug_time    train_time    epoch\n",
      "------------  -------------  -----------  -----------  ---------------  ------------  -------\n",
      "   0.0536435      0.0685387      0.98394       0.9796           28.117       145.431       15\n",
      "  train_loss    valid_losss    train_acc    valid_acc    data_aug_time    train_time    epoch\n",
      "------------  -------------  -----------  -----------  ---------------  ------------  -------\n",
      "   0.0612823       0.074767      0.98122       0.9775          27.3806       129.935       16\n",
      "  train_loss    valid_losss    train_acc    valid_acc    data_aug_time    train_time    epoch\n",
      "------------  -------------  -----------  -----------  ---------------  ------------  -------\n",
      "   0.0688954      0.0852849      0.97826       0.9727          28.0385       135.587       17\n",
      "  train_loss    valid_losss    train_acc    valid_acc    data_aug_time    train_time    epoch\n",
      "------------  -------------  -----------  -----------  ---------------  ------------  -------\n",
      "   0.0615905      0.0779372        0.981       0.9756          28.4405       99.2224       18\n",
      "  train_loss    valid_losss    train_acc    valid_acc    data_aug_time    train_time    epoch\n",
      "------------  -------------  -----------  -----------  ---------------  ------------  -------\n",
      "   0.0468831      0.0638518      0.98538       0.9805          27.5591         99.69       19\n",
      "  train_loss    valid_losss    train_acc    valid_acc    data_aug_time    train_time    epoch\n",
      "------------  -------------  -----------  -----------  ---------------  ------------  -------\n",
      "   0.0503313      0.0668924      0.98464       0.9801          27.7302       91.8858       20\n",
      "  train_loss    valid_losss    train_acc    valid_acc    data_aug_time    train_time    epoch\n",
      "------------  -------------  -----------  -----------  ---------------  ------------  -------\n",
      "   0.0460799      0.0624343      0.98544        0.981          28.8015       95.9718       21\n",
      "  train_loss    valid_losss    train_acc    valid_acc    data_aug_time    train_time    epoch\n",
      "------------  -------------  -----------  -----------  ---------------  ------------  -------\n",
      "   0.0518935      0.0705568       0.9833       0.9774          27.7878       90.7816       22\n",
      "  train_loss    valid_losss    train_acc    valid_acc    data_aug_time    train_time    epoch\n",
      "------------  -------------  -----------  -----------  ---------------  ------------  -------\n",
      "   0.0462634      0.0618467      0.98528       0.9809          28.3366       99.0327       23\n",
      "  train_loss    valid_losss    train_acc    valid_acc    data_aug_time    train_time    epoch\n",
      "------------  -------------  -----------  -----------  ---------------  ------------  -------\n",
      "   0.0414729      0.0604634      0.98702       0.9815          27.6364       99.4963       24\n",
      "  train_loss    valid_losss    train_acc    valid_acc    data_aug_time    train_time    epoch\n",
      "------------  -------------  -----------  -----------  ---------------  ------------  -------\n",
      "   0.0428984      0.0577298      0.98608       0.9831          27.5575        156.04       25\n",
      "  train_loss    valid_losss    train_acc    valid_acc    data_aug_time    train_time    epoch\n",
      "------------  -------------  -----------  -----------  ---------------  ------------  -------\n",
      "   0.0510485      0.0639183       0.9837       0.9796          28.1188       89.9135       26\n",
      "  train_loss    valid_losss    train_acc    valid_acc    data_aug_time    train_time    epoch\n",
      "------------  -------------  -----------  -----------  ---------------  ------------  -------\n",
      "   0.0389967      0.0524782      0.98804       0.9843          27.8102        109.39       27\n",
      "  train_loss    valid_losss    train_acc    valid_acc    data_aug_time    train_time    epoch\n",
      "------------  -------------  -----------  -----------  ---------------  ------------  -------\n",
      "   0.0374274      0.0524386      0.98882       0.9843          28.2355       92.3023       28\n",
      "  train_loss    valid_losss    train_acc    valid_acc    data_aug_time    train_time    epoch\n",
      "------------  -------------  -----------  -----------  ---------------  ------------  -------\n",
      "   0.0424645      0.0574577      0.98652       0.9833          28.7208       112.296       29\n",
      "  train_loss    valid_losss    train_acc    valid_acc    data_aug_time    train_time    epoch\n",
      "------------  -------------  -----------  -----------  ---------------  ------------  -------\n",
      "   0.0412166      0.0557951      0.98644       0.9834           27.564       92.8155       30\n",
      "  train_loss    valid_losss    train_acc    valid_acc    data_aug_time    train_time    epoch\n",
      "------------  -------------  -----------  -----------  ---------------  ------------  -------\n",
      "   0.0398648      0.0544308      0.98768       0.9839           28.158       127.621       31\n",
      "  train_loss    valid_losss    train_acc    valid_acc    data_aug_time    train_time    epoch\n",
      "------------  -------------  -----------  -----------  ---------------  ------------  -------\n",
      "   0.0391031      0.0567827      0.98778       0.9844          28.2683       133.248       32\n",
      "  train_loss    valid_losss    train_acc    valid_acc    data_aug_time    train_time    epoch\n",
      "------------  -------------  -----------  -----------  ---------------  ------------  -------\n",
      "   0.0327461      0.0522497       0.9898       0.9849          27.7953       100.365       33\n",
      "  train_loss    valid_losss    train_acc    valid_acc    data_aug_time    train_time    epoch\n",
      "------------  -------------  -----------  -----------  ---------------  ------------  -------\n",
      "   0.0339628      0.0520116       0.9896       0.9851          27.2851       163.033       34\n",
      "  train_loss    valid_losss    train_acc    valid_acc    data_aug_time    train_time    epoch\n",
      "------------  -------------  -----------  -----------  ---------------  ------------  -------\n",
      "   0.0343171      0.0544341      0.98884       0.9849          27.7313       91.2015       35\n",
      "  train_loss    valid_losss    train_acc    valid_acc    data_aug_time    train_time    epoch\n",
      "------------  -------------  -----------  -----------  ---------------  ------------  -------\n",
      "   0.0335219      0.0490628      0.98948       0.9852           27.901       108.924       36\n",
      "  train_loss    valid_losss    train_acc    valid_acc    data_aug_time    train_time    epoch\n",
      "------------  -------------  -----------  -----------  ---------------  ------------  -------\n",
      "   0.0280962      0.0437547      0.99172        0.988          27.7427       100.765       37\n",
      "  train_loss    valid_losss    train_acc    valid_acc    data_aug_time    train_time    epoch\n",
      "------------  -------------  -----------  -----------  ---------------  ------------  -------\n",
      "   0.0304301        0.04592      0.99044       0.9854          28.2013        98.765       38\n",
      "  train_loss    valid_losss    train_acc    valid_acc    data_aug_time    train_time    epoch\n",
      "------------  -------------  -----------  -----------  ---------------  ------------  -------\n",
      "   0.0349545      0.0504171      0.98948        0.987          28.2676       120.571       39\n",
      "  train_loss    valid_losss    train_acc    valid_acc    data_aug_time    train_time    epoch\n",
      "------------  -------------  -----------  -----------  ---------------  ------------  -------\n",
      "   0.0295296       0.047177      0.99096        0.986          27.7487       89.3848       40\n",
      "  train_loss    valid_losss    train_acc    valid_acc    data_aug_time    train_time    epoch\n",
      "------------  -------------  -----------  -----------  ---------------  ------------  -------\n",
      "   0.0429625      0.0583375       0.9859       0.9826           27.395       139.484       41\n",
      "  train_loss    valid_losss    train_acc    valid_acc    data_aug_time    train_time    epoch\n",
      "------------  -------------  -----------  -----------  ---------------  ------------  -------\n",
      "   0.0479981      0.0642744      0.98452       0.9785          27.5484       119.113       42\n",
      "  train_loss    valid_losss    train_acc    valid_acc    data_aug_time    train_time    epoch\n",
      "------------  -------------  -----------  -----------  ---------------  ------------  -------\n",
      "    0.027264      0.0465586      0.99126       0.9858          27.8047       87.1667       43\n",
      "  train_loss    valid_losss    train_acc    valid_acc    data_aug_time    train_time    epoch\n",
      "------------  -------------  -----------  -----------  ---------------  ------------  -------\n",
      "   0.0367298      0.0548219      0.98822       0.9827          27.7388       87.1045       44\n",
      "  train_loss    valid_losss    train_acc    valid_acc    data_aug_time    train_time    epoch\n",
      "------------  -------------  -----------  -----------  ---------------  ------------  -------\n",
      "   0.0244019      0.0434974      0.99226       0.9862          28.0125       96.0973       45\n",
      "  train_loss    valid_losss    train_acc    valid_acc    data_aug_time    train_time    epoch\n",
      "------------  -------------  -----------  -----------  ---------------  ------------  -------\n",
      "   0.0354068      0.0493113      0.98894       0.9851          28.2691       88.5753       46\n",
      "  train_loss    valid_losss    train_acc    valid_acc    data_aug_time    train_time    epoch\n",
      "------------  -------------  -----------  -----------  ---------------  ------------  -------\n",
      "   0.0310809      0.0485337      0.99002       0.9848          27.6085       107.536       47\n",
      "  train_loss    valid_losss    train_acc    valid_acc    data_aug_time    train_time    epoch\n",
      "------------  -------------  -----------  -----------  ---------------  ------------  -------\n",
      "   0.0267531      0.0457187      0.99118        0.985           28.793       104.722       48\n",
      "  train_loss    valid_losss    train_acc    valid_acc    data_aug_time    train_time    epoch\n",
      "------------  -------------  -----------  -----------  ---------------  ------------  -------\n",
      "   0.0299892      0.0469338       0.9903       0.9857          28.4849       94.8108       49\n",
      "  train_loss    valid_losss    train_acc    valid_acc    data_aug_time    train_time    epoch\n",
      "------------  -------------  -----------  -----------  ---------------  ------------  -------\n",
      "   0.0278907      0.0458535      0.99152       0.9859          27.7314       99.1839       50\n",
      "  train_loss    valid_losss    train_acc    valid_acc    data_aug_time    train_time    epoch\n",
      "------------  -------------  -----------  -----------  ---------------  ------------  -------\n",
      "    0.023167      0.0414245      0.99264       0.9869          27.7629       95.1032       51\n",
      "  train_loss    valid_losss    train_acc    valid_acc    data_aug_time    train_time    epoch\n",
      "------------  -------------  -----------  -----------  ---------------  ------------  -------\n",
      "   0.0368431      0.0570726      0.98866       0.9833          28.0546       116.146       52\n",
      "  train_loss    valid_losss    train_acc    valid_acc    data_aug_time    train_time    epoch\n",
      "------------  -------------  -----------  -----------  ---------------  ------------  -------\n",
      "   0.0247811      0.0456371      0.99188       0.9877          28.2737        143.39       53\n",
      "  train_loss    valid_losss    train_acc    valid_acc    data_aug_time    train_time    epoch\n",
      "------------  -------------  -----------  -----------  ---------------  ------------  -------\n",
      "    0.021054      0.0391977      0.99354       0.9882          27.8063       151.957       54\n",
      "  train_loss    valid_losss    train_acc    valid_acc    data_aug_time    train_time    epoch\n",
      "------------  -------------  -----------  -----------  ---------------  ------------  -------\n",
      "   0.0216135      0.0429288      0.99362       0.9876           28.291       100.783       55\n",
      "  train_loss    valid_losss    train_acc    valid_acc    data_aug_time    train_time    epoch\n",
      "------------  -------------  -----------  -----------  ---------------  ------------  -------\n",
      "   0.0297104      0.0510825       0.9911       0.9847          27.9447       87.9849       56\n",
      "  train_loss    valid_losss    train_acc    valid_acc    data_aug_time    train_time    epoch\n",
      "------------  -------------  -----------  -----------  ---------------  ------------  -------\n",
      "   0.0292415      0.0523709       0.9907       0.9847           28.048       90.7577       57\n",
      "  train_loss    valid_losss    train_acc    valid_acc    data_aug_time    train_time    epoch\n",
      "------------  -------------  -----------  -----------  ---------------  ------------  -------\n",
      "   0.0224032      0.0419209      0.99314       0.9884          28.2803       94.7411       58\n",
      "  train_loss    valid_losss    train_acc    valid_acc    data_aug_time    train_time    epoch\n",
      "------------  -------------  -----------  -----------  ---------------  ------------  -------\n",
      "   0.0233798      0.0414741      0.99262       0.9875          27.4239       104.751       59\n",
      "  train_loss    valid_losss    train_acc    valid_acc    data_aug_time    train_time    epoch\n",
      "------------  -------------  -----------  -----------  ---------------  ------------  -------\n",
      "   0.0238257      0.0433188       0.9925       0.9875          27.9447       85.4713       60\n"
     ]
    }
   ],
   "source": [
    "nb_epochs = 100\n",
    "data_augment = True\n",
    "learning_rate.set_value(np.array(lr).astype(np.float32))\n",
    "\n",
    "print('Training...')\n",
    "\n",
    "for epoch in range(1, nb_epochs + 1):\n",
    "    data_aug_time = []\n",
    "    train_time = []\n",
    "    \n",
    "    # Data augmentation\n",
    "    t = time()\n",
    "    if data_augment:\n",
    "        train_X_full = augment(train.X)\n",
    "    else:\n",
    "        train_X_full = train.X\n",
    "    data_aug_time.append(time() - t)\n",
    "\n",
    "    train_y_full = train.y\n",
    "    for train_X, train_y in iterate_minibatches(train_X_full, train_y_full, batchsize):\n",
    "        # Train one mini=batch\n",
    "        t = time()\n",
    "        train_fn(train_X, train_y)\n",
    "        train_time.append(time() - t)\n",
    "    stats = OrderedDict()\n",
    "    stats['train_loss'] = loss_fn(train.X, train.y)\n",
    "    stats['valid_losss'] = loss_fn(valid.X, valid.y)\n",
    "    stats['train_acc'] = acc_fn(train.X, train.y)\n",
    "    stats['valid_acc'] = acc_fn(valid.X, valid.y)\n",
    "    stats['data_aug_time'] = np.sum(data_aug_time)\n",
    "    stats['train_time'] = np.sum(train_time)\n",
    "    stats['epoch'] = epoch\n",
    "    \n",
    "    history.append(stats)\n",
    "    print(tabulate([stats], headers=\"keys\"))\n",
    "    \n",
    "    lr = learning_rate.get_value()\n",
    "    lr = lr * lr_decay\n",
    "    learning_rate.set_value(np.array(lr).astype(np.float32))"
   ]
  },
  {
   "cell_type": "code",
   "execution_count": null,
   "metadata": {
    "collapsed": false
   },
   "outputs": [],
   "source": [
    "train_acc = [h['train_acc'] for h in history]\n",
    "test_acc = [h['valid_acc'] for h in history]\n",
    "plt.plot(train_acc)\n",
    "plt.plot(test_acc)"
   ]
  },
  {
   "cell_type": "code",
   "execution_count": null,
   "metadata": {
    "collapsed": false
   },
   "outputs": [],
   "source": [
    "test_acc = acc_fn(test.X, test.y)\n",
    "print(1-test_acc, test_acc)"
   ]
  },
  {
   "cell_type": "code",
   "execution_count": null,
   "metadata": {
    "collapsed": false
   },
   "outputs": [],
   "source": [
    "all_layers = layers.get_all_layers(net)\n",
    "input_var = all_layers[0].input_var\n",
    "for l in all_layers:\n",
    "    f = theano.function([input_var], layers.get_output(l, input_var))\n",
    "    h = f(train.X)\n",
    "    print(l, h.shape)\n",
    "    plt.hist(h.flatten())\n",
    "    plt.show()"
   ]
  }
 ],
 "metadata": {
  "kernelspec": {
   "display_name": "Python 2",
   "language": "python",
   "name": "python2"
  },
  "language_info": {
   "codemirror_mode": {
    "name": "ipython",
    "version": 2
   },
   "file_extension": ".py",
   "mimetype": "text/x-python",
   "name": "python",
   "nbconvert_exporter": "python",
   "pygments_lexer": "ipython2",
   "version": "2.7.11"
  }
 },
 "nbformat": 4,
 "nbformat_minor": 0
}
