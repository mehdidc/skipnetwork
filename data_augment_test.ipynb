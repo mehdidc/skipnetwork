{
 "cells": [
  {
   "cell_type": "code",
   "execution_count": null,
   "metadata": {
    "collapsed": true
   },
   "outputs": [],
   "source": [
    "%matplotlib inline\n",
    "import os\n",
    "os.environ['DATA_PATH'] = \"/root/work/data\"\n",
    "import matplotlib.pyplot as plt\n",
    "from invoke import task\n",
    "from collections import OrderedDict\n",
    "import numpy as np\n",
    "from model import build_dense, build_conv, build_dense_resid, build_ciresan\n",
    "import theano\n",
    "import theano.tensor as T\n",
    "from lasagne import layers, objectives, updates\n",
    "from lasagnekit.datasets.mnist import MNIST\n",
    "from lasagnekit.datasets.infinite_image_dataset import Transform\n",
    "from helpers import iterate_minibatches, flip, rotate_scale, rotate_scale_one, elastic_transform, elastic_transform_one\n",
    "from tabulate import tabulate\n",
    "from time import time\n",
    "from lasagnekit.misc.plot_weights import tile_raster_images"
   ]
  },
  {
   "cell_type": "code",
   "execution_count": null,
   "metadata": {
    "collapsed": false
   },
   "outputs": [],
   "source": [
    "print('Loading data...')\n",
    "w, h, c = 28, 28, 1\n",
    "def preprocess(data):\n",
    "    return data.reshape((data.shape[0], c, w, h))\n",
    "\n",
    "train = MNIST(which='train')\n",
    "train.load()\n",
    "train.X = preprocess(train.X)\n",
    "#train.X = train.X[0:128]\n",
    "#train.y = train.y[0:128]\n",
    "\n",
    "test = MNIST(which='test')\n",
    "test.load()\n",
    "test.X = preprocess(test.X)"
   ]
  },
  {
   "cell_type": "code",
   "execution_count": null,
   "metadata": {
    "collapsed": false
   },
   "outputs": [],
   "source": [
    "%%time\n",
    "#x = train.X[10].reshape((1, 28, 28))\n",
    "#x = np.repeat(x, 100, axis=0)\n",
    "x = train.X[:, 0]\n",
    "x_before = x.copy()\n",
    "\n",
    "x = rotate_scale(\n",
    "    x,\n",
    "    min_angle=-15, max_angle=15,\n",
    "    min_scale=0.85, max_scale=1.15,\n",
    "    n_jobs=-1)\n",
    "x = elastic_transform( x, min_alpha=36, max_alpha=38, min_sigma=4, max_sigma=6, n_jobs=-1)"
   ]
  },
  {
   "cell_type": "code",
   "execution_count": null,
   "metadata": {
    "collapsed": false
   },
   "outputs": [],
   "source": [
    "fig = plt.figure(figsize=(15, 15))\n",
    "plt.subplot(1, 2, 1)\n",
    "plt.imshow(tile_raster_images(x_before, (28, 28), (10, 10)), cmap='gray', interpolation='none')\n",
    "plt.subplot(1, 2, 2)\n",
    "plt.imshow(tile_raster_images(x, (28, 28), (10, 10)), cmap='gray', interpolation='none')"
   ]
  },
  {
   "cell_type": "code",
   "execution_count": null,
   "metadata": {
    "collapsed": false
   },
   "outputs": [],
   "source": [
    "plt.hist(x_before.flatten(), normed=True, alpha=0.9)\n",
    "plt.hist(x.flatten(), normed=True, alpha=0.9)"
   ]
  },
  {
   "cell_type": "code",
   "execution_count": null,
   "metadata": {
    "collapsed": true
   },
   "outputs": [],
   "source": []
  }
 ],
 "metadata": {
  "kernelspec": {
   "display_name": "Python 2",
   "language": "python",
   "name": "python2"
  },
  "language_info": {
   "codemirror_mode": {
    "name": "ipython",
    "version": 2
   },
   "file_extension": ".py",
   "mimetype": "text/x-python",
   "name": "python",
   "nbconvert_exporter": "python",
   "pygments_lexer": "ipython2",
   "version": "2.7.11"
  }
 },
 "nbformat": 4,
 "nbformat_minor": 0
}
